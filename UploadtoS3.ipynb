{
 "cells": [
  {
   "cell_type": "code",
   "execution_count": 8,
   "id": "6395c576-9a3b-4011-8d4d-dc6b6fecc0ee",
   "metadata": {},
   "outputs": [],
   "source": [
    "import os\n",
    "import pandas as pd\n",
    "import boto3"
   ]
  },
  {
   "cell_type": "code",
   "execution_count": 9,
   "id": "657f4160-e64c-4491-95ed-bb5deaa0a4a6",
   "metadata": {},
   "outputs": [
    {
     "name": "stdout",
     "output_type": "stream",
     "text": [
      "/Users/gopalmondal/Desktop/gitfolder/ETL_with_Pandas\n"
     ]
    }
   ],
   "source": [
    "print(os.getcwd())"
   ]
  },
  {
   "cell_type": "code",
   "execution_count": 10,
   "id": "728f34ff-5167-432d-b096-0c62579b4cd9",
   "metadata": {},
   "outputs": [],
   "source": [
    "cwd = os.getcwd()\n",
    "DATA_DIR = os.path.join(cwd, 'cache')\n",
    "working_file = os.path.join(DATA_DIR, 'output_1.csv')"
   ]
  },
  {
   "cell_type": "code",
   "execution_count": 11,
   "id": "e917d9b5-2b93-4c9a-8af0-5e75623087dc",
   "metadata": {},
   "outputs": [
    {
     "data": {
      "text/html": [
       "<div>\n",
       "<style scoped>\n",
       "    .dataframe tbody tr th:only-of-type {\n",
       "        vertical-align: middle;\n",
       "    }\n",
       "\n",
       "    .dataframe tbody tr th {\n",
       "        vertical-align: top;\n",
       "    }\n",
       "\n",
       "    .dataframe thead th {\n",
       "        text-align: right;\n",
       "    }\n",
       "</style>\n",
       "<table border=\"1\" class=\"dataframe\">\n",
       "  <thead>\n",
       "    <tr style=\"text-align: right;\">\n",
       "      <th></th>\n",
       "      <th>Unnamed: 0</th>\n",
       "      <th>Rank</th>\n",
       "      <th>Release Group</th>\n",
       "      <th>Worldwide</th>\n",
       "      <th>Domestic</th>\n",
       "      <th>Foreign</th>\n",
       "      <th>year</th>\n",
       "      <th>filename</th>\n",
       "      <th>Domestic %</th>\n",
       "      <th>Foreign %</th>\n",
       "    </tr>\n",
       "  </thead>\n",
       "  <tbody>\n",
       "    <tr>\n",
       "      <th>0</th>\n",
       "      <td>0</td>\n",
       "      <td>1</td>\n",
       "      <td>Avengers: Endgame</td>\n",
       "      <td>2797800564</td>\n",
       "      <td>858373000</td>\n",
       "      <td>1939427564</td>\n",
       "      <td>2019</td>\n",
       "      <td>2019.csv</td>\n",
       "      <td>30.680278</td>\n",
       "      <td>69.319722</td>\n",
       "    </tr>\n",
       "    <tr>\n",
       "      <th>1</th>\n",
       "      <td>1</td>\n",
       "      <td>2</td>\n",
       "      <td>Star Wars: Episode VII - The Force Awakens</td>\n",
       "      <td>2068223624</td>\n",
       "      <td>936662225</td>\n",
       "      <td>1131561399</td>\n",
       "      <td>2015</td>\n",
       "      <td>2015.csv</td>\n",
       "      <td>45.288247</td>\n",
       "      <td>54.711753</td>\n",
       "    </tr>\n",
       "    <tr>\n",
       "      <th>2</th>\n",
       "      <td>2</td>\n",
       "      <td>3</td>\n",
       "      <td>Avengers: Infinity War</td>\n",
       "      <td>2048359754</td>\n",
       "      <td>678815482</td>\n",
       "      <td>1369544272</td>\n",
       "      <td>2018</td>\n",
       "      <td>2018.csv</td>\n",
       "      <td>33.139466</td>\n",
       "      <td>66.860534</td>\n",
       "    </tr>\n",
       "    <tr>\n",
       "      <th>3</th>\n",
       "      <td>3</td>\n",
       "      <td>4</td>\n",
       "      <td>Jurassic World</td>\n",
       "      <td>1670400637</td>\n",
       "      <td>652270625</td>\n",
       "      <td>1018130012</td>\n",
       "      <td>2015</td>\n",
       "      <td>2015.csv</td>\n",
       "      <td>39.048753</td>\n",
       "      <td>60.951247</td>\n",
       "    </tr>\n",
       "    <tr>\n",
       "      <th>4</th>\n",
       "      <td>4</td>\n",
       "      <td>5</td>\n",
       "      <td>The Lion King</td>\n",
       "      <td>1656943394</td>\n",
       "      <td>543638043</td>\n",
       "      <td>1113305351</td>\n",
       "      <td>2019</td>\n",
       "      <td>2019.csv</td>\n",
       "      <td>32.809693</td>\n",
       "      <td>67.190307</td>\n",
       "    </tr>\n",
       "  </tbody>\n",
       "</table>\n",
       "</div>"
      ],
      "text/plain": [
       "   Unnamed: 0  Rank                               Release Group   Worldwide  \\\n",
       "0           0     1                           Avengers: Endgame  2797800564   \n",
       "1           1     2  Star Wars: Episode VII - The Force Awakens  2068223624   \n",
       "2           2     3                      Avengers: Infinity War  2048359754   \n",
       "3           3     4                              Jurassic World  1670400637   \n",
       "4           4     5                               The Lion King  1656943394   \n",
       "\n",
       "    Domestic     Foreign  year  filename  Domestic %  Foreign %  \n",
       "0  858373000  1939427564  2019  2019.csv   30.680278  69.319722  \n",
       "1  936662225  1131561399  2015  2015.csv   45.288247  54.711753  \n",
       "2  678815482  1369544272  2018  2018.csv   33.139466  66.860534  \n",
       "3  652270625  1018130012  2015  2015.csv   39.048753  60.951247  \n",
       "4  543638043  1113305351  2019  2019.csv   32.809693  67.190307  "
      ]
     },
     "execution_count": 11,
     "metadata": {},
     "output_type": "execute_result"
    }
   ],
   "source": [
    "df = pd.read_csv(working_file, index_col=False)\n",
    "df.head()"
   ]
  },
  {
   "cell_type": "code",
   "execution_count": 13,
   "id": "53bffdec-6a0e-44b8-9498-25425d4386f6",
   "metadata": {},
   "outputs": [
    {
     "data": {
      "text/plain": [
       "{'ResponseMetadata': {'RequestId': 'JM16E9D553G5ZVK3',\n",
       "  'HostId': 'wFBWhl8XR6WJKLnK8tMOB4bcR1OXFt8qkdQe3CEWO+MoqmbtX2m7G/KA3+iYkQcRzShQUIH4KrU=',\n",
       "  'HTTPStatusCode': 200,\n",
       "  'HTTPHeaders': {'x-amz-id-2': 'wFBWhl8XR6WJKLnK8tMOB4bcR1OXFt8qkdQe3CEWO+MoqmbtX2m7G/KA3+iYkQcRzShQUIH4KrU=',\n",
       "   'x-amz-request-id': 'JM16E9D553G5ZVK3',\n",
       "   'date': 'Sat, 25 Dec 2021 21:43:14 GMT',\n",
       "   'etag': '\"53fd6e497552a3ad9fda34ac71741753\"',\n",
       "   'server': 'AmazonS3',\n",
       "   'content-length': '0'},\n",
       "  'RetryAttempts': 0},\n",
       " 'ETag': '\"53fd6e497552a3ad9fda34ac71741753\"'}"
      ]
     },
     "execution_count": 13,
     "metadata": {},
     "output_type": "execute_result"
    }
   ],
   "source": [
    "s3_resource = boto3.resource('s3')\n",
    "s3_resource.Object('say1moviedata', 'movie_list.csv').put(Body=open(working_file, 'rb'))"
   ]
  },
  {
   "cell_type": "code",
   "execution_count": null,
   "id": "8e344b3b-18c9-4a9e-bf52-44220b2314df",
   "metadata": {},
   "outputs": [],
   "source": []
  }
 ],
 "metadata": {
  "kernelspec": {
   "display_name": "Python 3 (ipykernel)",
   "language": "python",
   "name": "python3"
  },
  "language_info": {
   "codemirror_mode": {
    "name": "ipython",
    "version": 3
   },
   "file_extension": ".py",
   "mimetype": "text/x-python",
   "name": "python",
   "nbconvert_exporter": "python",
   "pygments_lexer": "ipython3",
   "version": "3.9.7"
  }
 },
 "nbformat": 4,
 "nbformat_minor": 5
}
